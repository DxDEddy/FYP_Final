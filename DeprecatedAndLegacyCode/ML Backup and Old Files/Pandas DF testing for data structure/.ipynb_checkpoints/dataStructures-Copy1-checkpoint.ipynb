{
 "cells": [
  {
   "cell_type": "markdown",
   "id": "ca20b38c",
   "metadata": {},
   "source": [
    "# Creating a data structure to feed to the model"
   ]
  },
  {
   "cell_type": "markdown",
   "id": "0abe639f",
   "metadata": {},
   "source": [
    "I want a pandas DF so that I can freely export it to JSON/YAML\n",
    "\n",
    "I need to create a file for each class\n",
    "    There should be a column for every instruction type and a row for every file ID in that class\n",
    "    The number should be the quantity of instructions of that type for that file ID"
   ]
  },
  {
   "cell_type": "code",
   "execution_count": 1,
   "id": "72fb9581",
   "metadata": {},
   "outputs": [],
   "source": [
    "import pandas as pd\n",
    "import json\n",
    "import glob\n",
    "import re\n",
    "import numpy as np\n",
    "from collections import Counter"
   ]
  },
  {
   "cell_type": "code",
   "execution_count": 2,
   "id": "2b1512a1",
   "metadata": {
    "scrolled": true
   },
   "outputs": [],
   "source": [
    "#Creating a list of the instructions I want to classify\n",
    "instructions = []\n",
    "\n",
    "#Pulling all instructions out of the file that contains a list of them\n",
    "with open(\"instructionListComplete.txt\") as f:\n",
    "    for line in f:\n",
    "        temp = line.strip()\n",
    "        instructions.append(temp)\n",
    "#print(instructions)"
   ]
  },
  {
   "cell_type": "code",
   "execution_count": 3,
   "id": "3d1695db",
   "metadata": {},
   "outputs": [],
   "source": [
    "#Creating a list of the files I want to classify\n",
    "filesNamesOnly = []\n",
    "filesFullPath = glob.glob(\"/home/eddy/machine-learning/data/dataset-subset/*.asm\") \n",
    "\n",
    "for x in filesFullPath: \n",
    "    x = x.replace(\"/home/eddy/machine-learning/data/dataset-subset/\",\"\") \n",
    "    x = x.replace(\".asm\",\"\")\n",
    "    filesNamesOnly.append(x)\n",
    "\n"
   ]
  },
  {
   "cell_type": "code",
   "execution_count": 4,
   "id": "ccf42a5f",
   "metadata": {
    "scrolled": true
   },
   "outputs": [],
   "source": [
    "#perhaps a list of each file ID/instruction with key:value pairs would be ideal for sorting into a DF\n",
    "#Instructions are already alphabetical, iterate through those seperately and create key value pairs, use the rows with those and import into the DF after the fact?\n",
    "\n",
    "df = pd.DataFrame()\n",
    "\n",
    "##Commented these out to experiment\n",
    "\n",
    "#Spawns a DF with columns being ID and Rows being Instructions\n",
    "#df = pd.DataFrame(columns=filesNamesOnly, index=instructions) # Might need to flip this for formatting\n",
    "#df = pd.DataFrame(columns=instructions, index=filesNamesOnly) # Might need to flip this for formatting\n",
    "#df.columns = df.columns.str.lower() # Experimental thing to fix the df data not saving\n",
    "#print(df)"
   ]
  },
  {
   "cell_type": "code",
   "execution_count": 5,
   "id": "6fc7c7a6",
   "metadata": {
    "scrolled": true
   },
   "outputs": [
    {
     "name": "stdout",
     "output_type": "stream",
     "text": [
      "Empty DataFrame\n",
      "Columns: []\n",
      "Index: []\n"
     ]
    }
   ],
   "source": [
    "#Going through the file to start counting...\n",
    "#Maybe best to pull stuff into a list with regex and run through that way??\n",
    "\"\"\" #Working for single file\n",
    "pattern = re.compile(\"(?:\\t{3,7}       (?!db|dd)[a-zA-Z]{2,6} {1,})\")\n",
    "#single file for now\n",
    "with open(\"/home/eddy/machine-learning/data/dataset-subset/0A32eTdBKayjCWhZqDOQ.asm\") as openFile:\n",
    "    fileContents = openFile.read()\n",
    "    matches = re.findall(pattern, fileContents)\n",
    "    \n",
    "for n in range(len(matches)):\n",
    "    \n",
    "    matches[n] = matches[n].replace(\"\\t\",\"\")\n",
    "    matches[n] = matches[n].replace(\"\\n\",\"\")\n",
    "    matches[n] = matches[n].replace(\" \",\"\")\n",
    "print(matches)\n",
    "\"\"\"\n",
    "\n",
    "for file in filesFullPath:\n",
    "    #print(\"File: \"+file+\" \")\n",
    "    jsonDestination = file\n",
    "    jsonDestination = jsonDestination.replace(\"/home/eddy/machine-learning/data/dataset-subset/\",\"/home/eddy/machine-learning/data/subset-json/\") \n",
    "    jsonDestination = jsonDestination.replace(\".asm\",\".json\")\n",
    "    \n",
    "    #Regex search on file contents to pull instructions\n",
    "    pattern = re.compile(\"(?:\\t{3,7}       (?!db|dd)[a-zA-Z]{2,6} {1,})\")\n",
    "    with open(file) as openFile:\n",
    "        fileContents = openFile.read()\n",
    "        matches = re.findall(pattern, fileContents)\n",
    "\n",
    "    #Stripping metadata off of the extracted instructions\n",
    "    for n in range(len(matches)):\n",
    "        matches[n] = matches[n].replace(\"\\t\",\"\")\n",
    "        matches[n] = matches[n].replace(\"\\n\",\"\")\n",
    "        matches[n] = matches[n].replace(\" \",\"\")\n",
    "        \n",
    "    #Sorting the dictionary of results into small -> large order for readability\n",
    "    sortedMatches = sorted(dict(Counter(matches)).items(), key=lambda kv:\n",
    "                 (kv[1], kv[0]))\n",
    "    \n",
    "    #Iterate through the sortedMatches and plug them into df?\n",
    "    fileNameClean = file\n",
    "    fileNameClean = fileNameClean.replace(\"/home/eddy/machine-learning/data/dataset-subset/\",\"\") \n",
    "    fileNameClean = fileNameClean.replace(\".asm\",\"\")\n",
    "    for key in sortedMatches:\n",
    "        #print(key[0]) # Instruction Name\n",
    "        #print(key[1]) # Count\n",
    "        #df.at[key[0],fileNameClean] = key[1] #Weird error - trying another way\n",
    "        #print(df.at[key[0],fileNameClean]) #Weird error - trying another way\n",
    "        \n",
    "        df.at[fileNameClean,key[0]] = key[1] #Weird error - trying another way\n",
    "        #print(df.at[key[0],fileNameClean]) #Weird error - trying another way\n",
    "        \n",
    "    #Dumping instruction counts to JSON\n",
    "    #with open(jsonDestination, \"w\") as jsonOut:\n",
    "        #json.dump(sortedMatches, jsonOut)\n",
    "    \n",
    "print(df)\n",
    "\n"
   ]
  },
  {
   "cell_type": "code",
   "execution_count": 6,
   "id": "5e690735",
   "metadata": {
    "scrolled": true
   },
   "outputs": [
    {
     "name": "stdout",
     "output_type": "stream",
     "text": [
      "Empty DataFrame\n",
      "Columns: []\n",
      "Index: []\n"
     ]
    }
   ],
   "source": [
    "df = df.fillna(0)\n",
    "np.count_nonzero(df)\n",
    "df.columns = df.columns.str.upper() # Experimental thing to fix the df data not saving\n",
    "with pd.option_context('display.max_rows', None, 'display.max_columns', None):  # more options can be specified also\n",
    "    print(df)\n",
    "df.to_csv(\"/home/eddy/machine-learning/data/dataframe.csv\")"
   ]
  },
  {
   "cell_type": "code",
   "execution_count": null,
   "id": "e4f5453d",
   "metadata": {},
   "outputs": [],
   "source": [
    "    "
   ]
  },
  {
   "cell_type": "code",
   "execution_count": null,
   "id": "079e493e",
   "metadata": {},
   "outputs": [],
   "source": []
  }
 ],
 "metadata": {
  "kernelspec": {
   "display_name": "Python 3 (ipykernel)",
   "language": "python",
   "name": "python3"
  },
  "language_info": {
   "codemirror_mode": {
    "name": "ipython",
    "version": 3
   },
   "file_extension": ".py",
   "mimetype": "text/x-python",
   "name": "python",
   "nbconvert_exporter": "python",
   "pygments_lexer": "ipython3",
   "version": "3.10.6"
  }
 },
 "nbformat": 4,
 "nbformat_minor": 5
}
