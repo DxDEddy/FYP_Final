{
 "cells": [
  {
   "cell_type": "markdown",
   "id": "87e69b35",
   "metadata": {},
   "source": [
    "# Quantifying the amount of assembly instructions in a given file"
   ]
  },
  {
   "cell_type": "code",
   "execution_count": 1,
   "id": "05dd2cef",
   "metadata": {},
   "outputs": [],
   "source": [
    "import re\n",
    "import pandas as pd"
   ]
  },
  {
   "cell_type": "code",
   "execution_count": 2,
   "id": "527f857b",
   "metadata": {},
   "outputs": [],
   "source": [
    "pattern = re.compile(\"(?:^[a-zA-Z]{2,6}\\s)\")\n",
    "\n",
    "matches = []\n",
    "\n",
    "for i, line in enumerate(open('bash.S')):\n",
    "    for match in re.finditer(pattern, line):\n",
    "        currentMatch = match.group()\n",
    "        currentMatch = currentMatch.strip()\n",
    "        matches.append(currentMatch)"
   ]
  },
  {
   "cell_type": "code",
   "execution_count": 3,
   "id": "1edfaec8",
   "metadata": {
    "scrolled": true
   },
   "outputs": [
    {
     "name": "stdout",
     "output_type": "stream",
     "text": [
      "      value   count\n",
      "0       add  108026\n",
      "1       mov   62279\n",
      "2      test   15363\n",
      "3       and   12450\n",
      "4       pop   11171\n",
      "..      ...     ...\n",
      "263    mulb       1\n",
      "264    fbld       1\n",
      "265     lsl       1\n",
      "266   movsq       1\n",
      "267  movlps       1\n",
      "\n",
      "[268 rows x 2 columns]\n"
     ]
    }
   ],
   "source": [
    "counts,values = pd.Series(matches).value_counts().values, pd.Series(matches).value_counts().index\n",
    "df_results = pd.DataFrame(list(zip(values,counts)),columns=[\"value\",\"count\"])\n",
    "print(df_results)"
   ]
  }
 ],
 "metadata": {
  "kernelspec": {
   "display_name": "Python 3 (ipykernel)",
   "language": "python",
   "name": "python3"
  },
  "language_info": {
   "codemirror_mode": {
    "name": "ipython",
    "version": 3
   },
   "file_extension": ".py",
   "mimetype": "text/x-python",
   "name": "python",
   "nbconvert_exporter": "python",
   "pygments_lexer": "ipython3",
   "version": "3.10.6"
  }
 },
 "nbformat": 4,
 "nbformat_minor": 5
}
